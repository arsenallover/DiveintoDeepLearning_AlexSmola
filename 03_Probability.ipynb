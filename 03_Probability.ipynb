{
 "cells": [
  {
   "cell_type": "markdown",
   "metadata": {},
   "source": [
    "* The law of large numbers tell us that as the number of tosses grows this estimate will draw closer and closer\n",
    "to the true underlying probability.\n",
    "\n",
    "* The distribution that assigns probabilities to a number of discrete choices is called the multinomial distribution"
   ]
  },
  {
   "cell_type": "code",
   "execution_count": 37,
   "metadata": {},
   "outputs": [
    {
     "data": {
      "text/plain": [
       "array([0, 0, 2, 2, 1, 0])"
      ]
     },
     "execution_count": 37,
     "metadata": {},
     "output_type": "execute_result"
    }
   ],
   "source": [
    "import numpy as np\n",
    "\n",
    "fair_probs = [1.0 / 6] * 6\n",
    "np.random.multinomial(5, fair_probs)"
   ]
  },
  {
   "cell_type": "markdown",
   "metadata": {},
   "source": [
    "* A random variable can be pretty much any quantity and is not deterministic.\n",
    "* discrete random variables, like the sides of a die,\n",
    "and continuous ones, like the weight and the height of a person"
   ]
  },
  {
   "cell_type": "markdown",
   "metadata": {},
   "source": [
    "## Expectation\n",
    "\n",
    "$ E[X] = \\sum x P(X = x) $\n",
    "* This is the value you get when you perform the experiment large number of times"
   ]
  },
  {
   "cell_type": "code",
   "execution_count": 40,
   "metadata": {},
   "outputs": [
    {
     "name": "stdout",
     "output_type": "stream",
     "text": [
      "3.6666666666666665\n",
      "3.5\n"
     ]
    }
   ],
   "source": [
    "# Dice Roll : Assume you got each number once in 6 rolls\n",
    "\n",
    "expectation = 1*1/6 + 2*1/6 + 4*1/6 + 4*1/6 + 5*1/6 + 6*1/6\n",
    "print(expectation)\n",
    "\n",
    "mean = (1 + 2 + 3 + 4 + 5 + 6)/6\n",
    "print(mean)"
   ]
  }
 ],
 "metadata": {
  "kernelspec": {
   "display_name": "Python 3",
   "language": "python",
   "name": "python3"
  },
  "language_info": {
   "codemirror_mode": {
    "name": "ipython",
    "version": 3
   },
   "file_extension": ".py",
   "mimetype": "text/x-python",
   "name": "python",
   "nbconvert_exporter": "python",
   "pygments_lexer": "ipython3",
   "version": "3.7.9"
  }
 },
 "nbformat": 4,
 "nbformat_minor": 4
}
