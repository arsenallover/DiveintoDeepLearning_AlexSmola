{
 "cells": [
  {
   "cell_type": "markdown",
   "metadata": {},
   "source": [
    "## Tensorflow Scratch Implementation"
   ]
  },
  {
   "cell_type": "code",
   "execution_count": 1,
   "metadata": {},
   "outputs": [],
   "source": [
    "import random\n",
    "import numpy as np\n",
    "import tensorflow as tf\n",
    "import matplotlib.pyplot as plt"
   ]
  },
  {
   "cell_type": "code",
   "execution_count": 2,
   "metadata": {},
   "outputs": [],
   "source": [
    "## Generate X, y\n",
    "\n",
    "### Init Variables\n",
    "true_w = tf.constant([3, -2.2])\n",
    "true_b = 4.2\n",
    "num_samples = 1000\n",
    "\n",
    "### Generate Samples\n",
    "features = tf.random.normal((num_samples, true_w.shape[0]), dtype=tf.float32)\n",
    "labels = tf.matmul(features, tf.reshape(true_w, (-1, 1))) + true_b\n",
    "labels += tf.random.normal(shape=labels.shape, stddev=0.01)\n",
    "labels = tf.reshape(labels, (-1, 1))"
   ]
  },
  {
   "cell_type": "code",
   "execution_count": 3,
   "metadata": {},
   "outputs": [],
   "source": [
    "## Read Batches of data\n",
    "def data_iter(X, y, batch_size):\n",
    "    '''Yields batches of X, y'''\n",
    "    num_samples = len(y)\n",
    "    indices = list(range(num_samples))\n",
    "    random.shuffle(indices)\n",
    "\n",
    "    for i in range(0, num_samples, batch_size):\n",
    "        j = tf.constant(indices[i: min(i + batch_size, num_samples)])\n",
    "        yield tf.gather(X, j), tf.gather(y, j)\n",
    "\n",
    "# next(data_iter(X, y, 32))"
   ]
  },
  {
   "cell_type": "code",
   "execution_count": 4,
   "metadata": {},
   "outputs": [],
   "source": [
    "## Functions for modeling\n",
    "\n",
    "def init_params():\n",
    "    \"\"\" Initialize w, b\"\"\"\n",
    "    w = tf.Variable(tf.random.normal(shape = (2, 1), mean = 0, stddev= 0.1), trainable = True)\n",
    "    b = tf.Variable(tf.zeros(1), trainable = True)\n",
    "    return w, b\n",
    "\n",
    "def lin_reg(X, w, b):\n",
    "    \"\"\" Linear Regression : y = wx + b \"\"\"\n",
    "    return tf.matmul(X, w) + b\n",
    "\n",
    "def squared_loss(yhat, y):\n",
    "    return (yhat - tf.reshape(y, yhat.shape))**2/2\n",
    "\n",
    "def sgd(params, grads, lr, batch_size):\n",
    "    for param, grad in zip(params, grads):\n",
    "        param.assign_sub(lr*grad/batch_size)"
   ]
  },
  {
   "cell_type": "code",
   "execution_count": 5,
   "metadata": {
    "tags": []
   },
   "outputs": [
    {
     "output_type": "stream",
     "name": "stdout",
     "text": "epoch : 0, training_loss : 0.03946446254849434\nepoch : 1, training_loss : 0.0001582117547513917\nepoch : 2, training_loss : 5.046507067163475e-05\nepoch : 3, training_loss : 4.991786045138724e-05\nepoch : 4, training_loss : 4.995410199626349e-05\n"
    }
   ],
   "source": [
    "lr = 0.03\n",
    "num_epochs = 5\n",
    "batch_size = 10\n",
    "\n",
    "w, b = init_params()\n",
    "for epoch in range(num_epochs):\n",
    "    for X, y in data_iter(features, labels, batch_size):\n",
    "        with tf.GradientTape() as tape:\n",
    "            # Do forward prop & Compute loss\n",
    "            loss = squared_loss(lin_reg(X, w, b), y)\n",
    "\n",
    "        # Compute Gradient\n",
    "        dw, db = tape.gradient(loss, [w, b])\n",
    "\n",
    "        # Update w, b\n",
    "        sgd([w, b], [dw, db], lr, batch_size)\n",
    "\n",
    "    training_loss = squared_loss(lin_reg(features, w, b), labels)\n",
    "    print(f\"epoch : {epoch}, training_loss : {tf.reduce_mean(training_loss)}\")"
   ]
  },
  {
   "cell_type": "code",
   "execution_count": 6,
   "metadata": {
    "tags": []
   },
   "outputs": [
    {
     "output_type": "stream",
     "name": "stdout",
     "text": "<tf.Variable 'Variable:0' shape=(2, 1) dtype=float32, numpy=\narray([[ 3.000012 ],\n       [-2.1999488]], dtype=float32)> <tf.Variable 'Variable:0' shape=(1,) dtype=float32, numpy=array([4.2003527], dtype=float32)>\n"
    }
   ],
   "source": [
    "print(w, b)"
   ]
  },
  {
   "cell_type": "markdown",
   "metadata": {},
   "source": [
    "## Tensorflow Concise Implementation"
   ]
  },
  {
   "cell_type": "code",
   "execution_count": 7,
   "metadata": {},
   "outputs": [],
   "source": [
    "import tensorflow as tf\n",
    "import numpy as np"
   ]
  },
  {
   "cell_type": "code",
   "execution_count": 8,
   "metadata": {},
   "outputs": [],
   "source": [
    "## Generate Data\n",
    "\n",
    "### Init Variables\n",
    "true_w = tf.constant([3, -2.2])\n",
    "true_b = 4.2\n",
    "num_samples = 1000\n",
    "\n",
    "### Generate Samples\n",
    "features = tf.random.normal((num_samples, true_w.shape[0]), dtype=tf.float32)\n",
    "labels = tf.matmul(features, tf.reshape(true_w, (-1, 1))) + true_b\n",
    "labels += tf.random.normal(shape=labels.shape, stddev=0.01)\n",
    "labels = tf.reshape(labels, (-1, 1))"
   ]
  },
  {
   "cell_type": "code",
   "execution_count": 9,
   "metadata": {},
   "outputs": [],
   "source": [
    "## Read Batches of data\n",
    "\n",
    "def load_data(data, batch_size, is_train = False):\n",
    "    \"\"\" Construct Tensorflow data iterator\n",
    "    is_train : to shuffle data \"\"\"\n",
    "    dataset = tf.data.Dataset.from_tensor_slices(data)\n",
    "    if is_train:\n",
    "        dataset = dataset.shuffle(buffer_size = 1000)\n",
    "    dataset = dataset.batch(batch_size)\n",
    "    return dataset\n",
    "\n",
    "# batch_size = 10\n",
    "# data_iter = load_data((features, labels), batch_size)\n",
    "# # next(iter(data_iter))"
   ]
  },
  {
   "cell_type": "code",
   "execution_count": 10,
   "metadata": {},
   "outputs": [],
   "source": [
    "## Initialize parameters\n",
    "\n",
    "initializer = tf.initializers.RandomNormal(stddev = 0.01)\n",
    "lin_reg_tf = tf.keras.Sequential()\n",
    "lin_reg_tf.add(tf.keras.layers.Dense(1, kernel_initializer = initializer))"
   ]
  },
  {
   "cell_type": "code",
   "execution_count": 11,
   "metadata": {},
   "outputs": [],
   "source": [
    "## Set Optimizer and loss\n",
    "trainer = tf.keras.optimizers.SGD(learning_rate = 0.05)\n",
    "squared_loss = tf.keras.losses.MeanSquaredError()"
   ]
  },
  {
   "cell_type": "code",
   "execution_count": 12,
   "metadata": {
    "tags": []
   },
   "outputs": [
    {
     "output_type": "stream",
     "name": "stdout",
     "text": "epoch : 0, training_loss : 3.8380420207977295\nepoch : 1, training_loss : 0.47112494707107544\nepoch : 2, training_loss : 0.05801168829202652\nepoch : 3, training_loss : 0.007222828920930624\nepoch : 4, training_loss : 0.0009677072521299124\n"
    }
   ],
   "source": [
    "num_epochs = 5\n",
    "batch_size = 100\n",
    "data_iter = load_data((features, labels), batch_size)\n",
    "for epoch in range(num_epochs):\n",
    "    for X, y in data_iter:\n",
    "        with tf.GradientTape() as tape:\n",
    "            # Do forward prop & Compute loss\n",
    "            loss = squared_loss(lin_reg_tf(X, training = True), y)\n",
    "        \n",
    "        # Calculate Gradient\n",
    "        grads = tape.gradient(loss, lin_reg_tf.trainable_variables)\n",
    "    \n",
    "        # Update weights\n",
    "        trainer.apply_gradients(zip(grads, lin_reg_tf.trainable_variables))\n",
    "    \n",
    "    # Compute epoch loss\n",
    "    training_loss = squared_loss(lin_reg_tf(features), labels)\n",
    "\n",
    "    print(f\"epoch : {epoch}, training_loss : {tf.reduce_mean(training_loss)}\")\n"
   ]
  },
  {
   "cell_type": "code",
   "execution_count": 13,
   "metadata": {},
   "outputs": [
    {
     "output_type": "execute_result",
     "data": {
      "text/plain": "[array([[ 2.9864178],\n        [-2.1858115]], dtype=float32),\n array([4.177178], dtype=float32)]"
     },
     "metadata": {},
     "execution_count": 13
    }
   ],
   "source": [
    "lin_reg_tf.get_weights()"
   ]
  },
  {
   "cell_type": "markdown",
   "metadata": {},
   "source": [
    "## Gaussian Distribution and Linear Regression\n",
    "\n",
    "* $ Gaussian \\ Distribution : \\frac{1}{\\sqrt{2\\pi\\sigma^2}}* exp[-\\frac{(x - \\mu)^2}{2\\sigma^2}] $\n",
    "\n",
    "\n",
    "* In Lin Reg, the observations are assumed to arise from noisy observations -> $\\epsilon$ ~ $N(0, \\sigma^2)$\n",
    "\n",
    "\n",
    "* Likelihood of seeing y for given x:\n",
    "\n",
    " $ P(y|x) = \\frac{1}{\\sqrt{2\\pi\\sigma^2}}* exp[-\\frac{(y - w^Tx - b)^2}{2\\sigma^2}] $\n",
    " \n",
    " \n",
    "* By principle of max likelihood, best value of w, b for entire dataset which maximize the likelihood:\n",
    "\n",
    "    $ P(y|X) = \\prod p(y|x) $\n",
    " \n",
    " \n",
    "* The abv eq has prod of exp -> diff to work with -> take log and minimize with - sign\n",
    "\n",
    "     $ -log(P(y|X)) = \\sum \\frac{1}{2} log (2\\pi\\sigma^2) + \\frac{1}{2\\sigma^2} (y - w^Tx - b)^2 $\n",
    " \n",
    " \n",
    "* The second term is MSE and need to be minimized\n",
    " "
   ]
  }
 ],
 "metadata": {
  "kernelspec": {
   "display_name": "Python 3.7.7 64-bit ('myenv': conda)",
   "language": "python",
   "name": "python_defaultSpec_1599961621814"
  },
  "language_info": {
   "codemirror_mode": {
    "name": "ipython",
    "version": 3
   },
   "file_extension": ".py",
   "mimetype": "text/x-python",
   "name": "python",
   "nbconvert_exporter": "python",
   "pygments_lexer": "ipython3",
   "version": "3.7.7-final"
  }
 },
 "nbformat": 4,
 "nbformat_minor": 4
}