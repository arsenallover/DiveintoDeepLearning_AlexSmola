{
 "cells": [
  {
   "cell_type": "markdown",
   "metadata": {},
   "source": [
    "## Why calculus\n",
    "\n",
    "* how rapidly the loss would increase or decrease, were we to increase or decrease\n",
    "that parameter by an infinitesimally small amount\n",
    "\n",
    "* Calculating derivative using standard math is shown below. **Remember this is valid as h approaches to zero**"
   ]
  },
  {
   "cell_type": "markdown",
   "metadata": {},
   "source": [
    "### Derivative of functions"
   ]
  },
  {
   "cell_type": "code",
   "execution_count": 1,
   "metadata": {},
   "outputs": [
    {
     "name": "stdout",
     "output_type": "stream",
     "text": [
      "2.3000000000000043\n",
      "2.029999999999976\n",
      "2.0029999999993104\n",
      "2.000299999997956\n",
      "2.0000300000155837\n"
     ]
    }
   ],
   "source": [
    "## Calculating Derivative \n",
    "\n",
    "import numpy as np\n",
    "\n",
    "def f(x):\n",
    "    return 3*x**2 - 4*x\n",
    "\n",
    "def numerical_differentiation(f, x, h):\n",
    "    '''\n",
    "    Inputs: \n",
    "        f - function\n",
    "        x - differentiation at x\n",
    "        h - infinitesimal value\n",
    "    '''\n",
    "    return (f(x + h) - f(x))/h\n",
    "\n",
    "h = 0.1\n",
    "\n",
    "for i in np.arange(5):\n",
    "    num_diff = numerical_differentiation(f, 1, h)\n",
    "    h *= 0.1\n",
    "    print(num_diff)"
   ]
  },
  {
   "cell_type": "markdown",
   "metadata": {},
   "source": [
    "### Auto Grad"
   ]
  },
  {
   "cell_type": "code",
   "execution_count": 2,
   "metadata": {},
   "outputs": [],
   "source": [
    "from mxnet import autograd, np, npx\n",
    "npx.set_np()"
   ]
  },
  {
   "cell_type": "code",
   "execution_count": 3,
   "metadata": {},
   "outputs": [
    {
     "data": {
      "text/plain": [
       "array([[1., 2.],\n",
       "       [3., 4.]])"
      ]
     },
     "execution_count": 3,
     "metadata": {},
     "output_type": "execute_result"
    }
   ],
   "source": [
    "a = np.array([[1, 2], [3, 4]])\n",
    "a.attach_grad() # Letting autograd know that we are interested in grad of a\n",
    "a"
   ]
  },
  {
   "cell_type": "code",
   "execution_count": 5,
   "metadata": {},
   "outputs": [
    {
     "data": {
      "text/plain": [
       "array([[ 4.,  8.],\n",
       "       [12., 16.]])"
      ]
     },
     "execution_count": 5,
     "metadata": {},
     "output_type": "execute_result"
    }
   ],
   "source": [
    "with autograd.record(): \n",
    "    c = 2*a*a  # initializing the function\n",
    "c.backward()   # calculate backprop\n",
    "\n",
    "a.grad # Grad is stored in a"
   ]
  },
  {
   "cell_type": "code",
   "execution_count": null,
   "metadata": {},
   "outputs": [],
   "source": []
  }
 ],
 "metadata": {
  "kernelspec": {
   "display_name": "Python 3",
   "language": "python",
   "name": "python3"
  },
  "language_info": {
   "codemirror_mode": {
    "name": "ipython",
    "version": 3
   },
   "file_extension": ".py",
   "mimetype": "text/x-python",
   "name": "python",
   "nbconvert_exporter": "python",
   "pygments_lexer": "ipython3",
   "version": "3.7.9"
  }
 },
 "nbformat": 4,
 "nbformat_minor": 4
}
