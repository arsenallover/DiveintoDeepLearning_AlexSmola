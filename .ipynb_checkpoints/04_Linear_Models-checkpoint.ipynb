{
 "cells": [
  {
   "cell_type": "markdown",
   "metadata": {},
   "source": [
    "## Gaussian Distribution and Linear Regression\n",
    "\n",
    "* $ Gaussian \\ Distribution : \\frac{1}{\\sqrt{2\\pi\\sigma^2}}* exp[-\\frac{(x - \\mu)^2}{2\\sigma^2}] $\n",
    "\n",
    "\n",
    "* In Lin Reg, the observations are assumed to arise from noisy observations -> $\\epsilon$ ~ $N(0, \\sigma^2)$\n",
    "\n",
    "\n",
    "* Likelihood of seeing y for given x:\n",
    "\n",
    " $ P(y|x) = \\frac{1}{\\sqrt{2\\pi\\sigma^2}}* exp[-\\frac{(y - w^Tx - b)^2}{2\\sigma^2}] $\n",
    " \n",
    " \n",
    "* By principle of max likelihood, best value of w, b for entire dataset which maximize the likelihood:\n",
    "\n",
    "    $ P(y|X) = \\prod p(y|x) $\n",
    " \n",
    " \n",
    "* The abv eq has prod of exp -> diff to work with -> take log and minimize with - sign\n",
    "\n",
    "     $ -log(P(y|X)) = \\sum \\frac{1}{2} log (2\\pi\\sigma^2) + \\frac{1}{2\\sigma^2} (y - w^Tx - b)^2 $\n",
    " \n",
    " \n",
    "* The second term is MSE and need to be minimized\n",
    " "
   ]
  },
  {
   "cell_type": "markdown",
   "metadata": {},
   "source": [
    "## Scratch Implementation"
   ]
  },
  {
   "cell_type": "code",
   "execution_count": 1,
   "metadata": {},
   "outputs": [],
   "source": [
    "%matplotlib inline\n",
    "from d2l import tensorflow as d2l\n",
    "import tensorflow as tf\n",
    "import random"
   ]
  },
  {
   "cell_type": "code",
   "execution_count": 2,
   "metadata": {},
   "outputs": [],
   "source": [
    "def synthetic_data(w, b, num_examples):  #@save\n",
    "    \"\"\"Generate y = Xw + b + noise.\"\"\"\n",
    "    X = tf.zeros((num_examples, w.shape[0]))\n",
    "    X += tf.random.normal(shape=X.shape)\n",
    "    y = tf.matmul(X, tf.reshape(w, (-1, 1))) + b\n",
    "    y += tf.random.normal(shape=y.shape, stddev=0.01)\n",
    "    y = tf.reshape(y, (-1, 1))\n",
    "    return X, y\n",
    "\n",
    "true_w = tf.constant([2, -3.4])\n",
    "true_b = 4.2\n",
    "features, labels = synthetic_data(true_w, true_b, 1000)"
   ]
  },
  {
   "cell_type": "code",
   "execution_count": 3,
   "metadata": {},
   "outputs": [
    {
     "name": "stdout",
     "output_type": "stream",
     "text": [
      "features: tf.Tensor([-0.9137856   0.81359535], shape=(2,), dtype=float32) \n",
      "label: tf.Tensor([-0.3917893], shape=(1,), dtype=float32)\n"
     ]
    }
   ],
   "source": [
    "print('features:', features[0],'\\nlabel:', labels[0])"
   ]
  },
  {
   "cell_type": "code",
   "execution_count": 4,
   "metadata": {},
   "outputs": [],
   "source": [
    "def data_iter(batch_size, features, labels):\n",
    "    num_examples = len(features)\n",
    "    indices = list(range(num_examples))\n",
    "    # The examples are read at random, in no particular order\n",
    "    random.shuffle(indices)\n",
    "    for i in range(0, num_examples, batch_size):\n",
    "        j = tf.constant(indices[i: min(i + batch_size, num_examples)])\n",
    "        yield tf.gather(features, j), tf.gather(labels, j)"
   ]
  },
  {
   "cell_type": "code",
   "execution_count": 5,
   "metadata": {},
   "outputs": [],
   "source": [
    "w = tf.Variable(tf.random.normal(shape = (2, 1), mean = 0, stddev = 0.1),\n",
    "               trainable = True)\n",
    "b = tf.Variable(tf.zeros(1), trainable = True)"
   ]
  },
  {
   "cell_type": "code",
   "execution_count": 6,
   "metadata": {},
   "outputs": [],
   "source": [
    "def linreg(X, w, b):  #@save\n",
    "    \"\"\"The linear regression model.\"\"\"\n",
    "    return tf.matmul(X, w) + b\n",
    "\n",
    "def squared_loss(y_hat, y): #@save\n",
    "    return (y_hat - tf.reshape(y, y_hat.shape))**2/2\n",
    "\n",
    "def sgd(params, grads, lr, batch_size):  #@save\n",
    "    \"\"\"Minibatch stochastic gradient descent.\"\"\"\n",
    "    for param, grad in zip(params, grads):\n",
    "        param.assign_sub(lr*grad/batch_size)"
   ]
  },
  {
   "cell_type": "code",
   "execution_count": 7,
   "metadata": {},
   "outputs": [
    {
     "name": "stdout",
     "output_type": "stream",
     "text": [
      "epoch 1, loss 0.038664\n",
      "epoch 2, loss 0.000144\n",
      "epoch 3, loss 0.000051\n"
     ]
    }
   ],
   "source": [
    "lr = 0.03\n",
    "num_epochs = 3\n",
    "net = linreg\n",
    "loss = squared_loss\n",
    "batch_size = 10\n",
    "\n",
    "for epoch in range(num_epochs):\n",
    "    for X, y in data_iter(batch_size, features, labels):\n",
    "        with tf.GradientTape() as g:\n",
    "            # Do frwd prop, Compute loss\n",
    "            l = loss(net(X, w, b), y) \n",
    "        \n",
    "        # Compute gradient\n",
    "        dw, db = g.gradient(l, [w, b])\n",
    "        \n",
    "        # Update w, b\n",
    "        sgd([w, b], [dw, db], lr, batch_size)\n",
    "    \n",
    "    # Compute loss per epoch\n",
    "    train_l = loss(net(features, w, b), labels)\n",
    "    print(f'epoch {epoch + 1}, loss {float(tf.reduce_mean(train_l)):f}')"
   ]
  },
  {
   "cell_type": "code",
   "execution_count": 8,
   "metadata": {},
   "outputs": [
    {
     "name": "stdout",
     "output_type": "stream",
     "text": [
      "error in estimating w: [ 0.00105822 -0.00057888]\n",
      "error in estimating b: [-6.246567e-05]\n"
     ]
    }
   ],
   "source": [
    "print(f'error in estimating w: {true_w - tf.reshape(w, true_w.shape)}')\n",
    "print(f'error in estimating b: {true_b - b}')"
   ]
  },
  {
   "cell_type": "markdown",
   "metadata": {},
   "source": [
    "## Concise Implementation"
   ]
  },
  {
   "cell_type": "code",
   "execution_count": 9,
   "metadata": {},
   "outputs": [],
   "source": [
    "from d2l import tensorflow as d2l\n",
    "import numpy as np\n",
    "import tensorflow as tf\n",
    "\n",
    "true_w = tf.constant([2, -3.4])\n",
    "true_b = 4.2\n",
    "features, labels = d2l.synthetic_data(true_w, true_b, 1000)"
   ]
  },
  {
   "cell_type": "code",
   "execution_count": 10,
   "metadata": {},
   "outputs": [],
   "source": [
    "def load_array(data_arrays, batch_size, is_train = False): #@save\n",
    "    \"\"\" Construct Tensorflow data iterator\n",
    "    Rather using own iterator, we call upon existing API\n",
    "    is_train : to shuffle data \"\"\"\n",
    "    dataset = tf.data.Dataset.from_tensor_slices(data_arrays)\n",
    "    if is_train:\n",
    "        dataset = dataset.shuffle(buffer_size = 1000)\n",
    "    dataset = dataset.batch(batch_size)\n",
    "    return dataset\n",
    "\n",
    "batch_size = 10\n",
    "data_iter = load_array((features, labels), batch_size)"
   ]
  },
  {
   "cell_type": "code",
   "execution_count": 11,
   "metadata": {},
   "outputs": [
    {
     "data": {
      "text/plain": [
       "(<tf.Tensor: shape=(10, 2), dtype=float32, numpy=\n",
       " array([[-1.1989816 ,  0.02564495],\n",
       "        [-0.67843246, -1.1328676 ],\n",
       "        [ 1.5907377 ,  0.43481696],\n",
       "        [ 0.9986296 ,  1.3035778 ],\n",
       "        [ 0.02679958, -0.212017  ],\n",
       "        [-1.0670668 , -0.45961946],\n",
       "        [ 0.08323709, -0.5515458 ],\n",
       "        [ 0.49507928, -1.142965  ],\n",
       "        [-2.1643171 , -0.52422506],\n",
       "        [-1.0298878 ,  0.9995094 ]], dtype=float32)>,\n",
       " <tf.Tensor: shape=(10, 1), dtype=float32, numpy=\n",
       " array([[ 1.7193632],\n",
       "        [ 6.673364 ],\n",
       "        [ 5.8977532],\n",
       "        [ 1.7569053],\n",
       "        [ 4.995048 ],\n",
       "        [ 3.6270065],\n",
       "        [ 6.2248855],\n",
       "        [ 9.078329 ],\n",
       "        [ 1.6556759],\n",
       "        [-1.2462515]], dtype=float32)>)"
      ]
     },
     "execution_count": 11,
     "metadata": {},
     "output_type": "execute_result"
    }
   ],
   "source": [
    "next(iter(data_iter))"
   ]
  },
  {
   "cell_type": "code",
   "execution_count": 12,
   "metadata": {},
   "outputs": [],
   "source": [
    "# intialize each param in weights by std normal\n",
    "initializer = tf.initializers.RandomNormal(stddev = 0.01)\n",
    "net = tf.keras.Sequential()\n",
    "net.add(tf.keras.layers.Dense(1, kernel_initializer = initializer))"
   ]
  },
  {
   "cell_type": "code",
   "execution_count": 13,
   "metadata": {},
   "outputs": [],
   "source": [
    "trainer = tf.keras.optimizers.SGD(learning_rate=0.03)\n",
    "loss = tf.keras.losses.MeanSquaredError()\n"
   ]
  },
  {
   "cell_type": "code",
   "execution_count": 14,
   "metadata": {},
   "outputs": [
    {
     "name": "stdout",
     "output_type": "stream",
     "text": [
      "epoch 1, loss 0.000443\n",
      "epoch 2, loss 0.000100\n",
      "epoch 3, loss 0.000100\n"
     ]
    }
   ],
   "source": [
    "num_epochs = 3\n",
    "for epoch in range(num_epochs):\n",
    "    for X, y in data_iter:\n",
    "        with tf.GradientTape() as tape:\n",
    "            l = loss(net(X, training =  True), y)\n",
    "        \n",
    "        grads = tape.gradient(l, net.trainable_variables)\n",
    "        \n",
    "        trainer.apply_gradients(zip(grads, net.trainable_variables))\n",
    "        \n",
    "    l = loss(net(features), labels)\n",
    "    print(f'epoch {epoch + 1}, loss {l:f}')"
   ]
  }
 ],
 "metadata": {
  "kernelspec": {
   "display_name": "Python 3",
   "language": "python",
   "name": "python3"
  },
  "language_info": {
   "codemirror_mode": {
    "name": "ipython",
    "version": 3
   },
   "file_extension": ".py",
   "mimetype": "text/x-python",
   "name": "python",
   "nbconvert_exporter": "python",
   "pygments_lexer": "ipython3",
   "version": "3.7.9"
  }
 },
 "nbformat": 4,
 "nbformat_minor": 4
}
