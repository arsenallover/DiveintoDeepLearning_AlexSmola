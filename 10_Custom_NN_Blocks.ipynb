{
 "metadata": {
  "language_info": {
   "codemirror_mode": {
    "name": "ipython",
    "version": 3
   },
   "file_extension": ".py",
   "mimetype": "text/x-python",
   "name": "python",
   "nbconvert_exporter": "python",
   "pygments_lexer": "ipython3",
   "version": "3.7.7-final"
  },
  "orig_nbformat": 2,
  "kernelspec": {
   "name": "python_defaultSpec_1600152758189",
   "display_name": "Python 3.7.7 64-bit ('myenv': conda)"
  }
 },
 "nbformat": 4,
 "nbformat_minor": 2,
 "cells": [
  {
   "cell_type": "code",
   "execution_count": 1,
   "metadata": {},
   "outputs": [],
   "source": [
    "import tensorflow as tf\n",
    "import numpy as np"
   ]
  },
  {
   "cell_type": "markdown",
   "metadata": {},
   "source": [
    "## Understanding Model Weight Shapes"
   ]
  },
  {
   "cell_type": "markdown",
   "metadata": {},
   "source": [
    "model = Sequential()\n",
    "\n",
    "model.add(Dense(32, input_shape=(16,)))\n",
    "* now the model will take as input arrays of shape (*, 16) and output arrays of shape (*, 32)\n",
    "\n",
    "model.add(Dense(32))\n",
    "\n",
    "* after the first layer, you don't need to specify the size of the input anymore:\n"
   ]
  },
  {
   "cell_type": "code",
   "execution_count": 101,
   "metadata": {},
   "outputs": [
    {
     "output_type": "execute_result",
     "data": {
      "text/plain": "<tf.Tensor: shape=(2, 3), dtype=float32, numpy=\narray([[ 0.45988375,  0.44945583, -0.5030286 ],\n       [ 0.24884453, -0.01099233,  0.3660769 ]], dtype=float32)>"
     },
     "metadata": {},
     "execution_count": 101
    }
   ],
   "source": [
    "net = tf.keras.models.Sequential([\n",
    "    tf.keras.layers.Dense(4, activation='relu'),  # weights at this layer : 5*4 (number of features, number of layers)\n",
    "    tf.keras.layers.Dense(3)  # 3 output for each samples  # weights at this layer : 4*3\n",
    "])\n",
    "X = tf.random.uniform((2, 5))  ## This has two samples with 5 features\n",
    "net(X)    # Output : num_samples * number of output -> 2*3"
   ]
  },
  {
   "cell_type": "code",
   "execution_count": 102,
   "metadata": {},
   "outputs": [
    {
     "output_type": "execute_result",
     "data": {
      "text/plain": "[(5, 4), (4,), (4, 3), (3,)]"
     },
     "metadata": {},
     "execution_count": 102
    }
   ],
   "source": [
    "[w.shape for w in net.get_weights()]"
   ]
  },
  {
   "cell_type": "code",
   "execution_count": 91,
   "metadata": {},
   "outputs": [
    {
     "output_type": "execute_result",
     "data": {
      "text/plain": "[array([[-0.7477323 , -0.5512397 ,  0.28862655, -0.03863358],\n        [ 0.45619917,  0.6058912 ,  0.55102146, -0.08232236],\n        [ 0.05374765,  0.5406301 , -0.35176423,  0.17109698],\n        [ 0.31326377,  0.08617252,  0.05538166, -0.16758734],\n        [-0.23829949, -0.22896457, -0.20922929,  0.3343681 ]],\n       dtype=float32),\n array([0., 0., 0., 0.], dtype=float32),\n array([[-0.8349323 , -0.36833513, -0.8404136 ],\n        [ 0.8526596 , -0.15256757,  0.08835053],\n        [-0.64301026,  0.47354722,  0.4408257 ],\n        [ 0.85625815,  0.25792944,  0.3647381 ]], dtype=float32),\n array([0., 0., 0.], dtype=float32)]"
     },
     "metadata": {},
     "execution_count": 91
    }
   ],
   "source": [
    "net.get_weights() "
   ]
  },
  {
   "cell_type": "code",
   "execution_count": 92,
   "metadata": {},
   "outputs": [
    {
     "output_type": "execute_result",
     "data": {
      "text/plain": "[<tf.Variable 'sequential_42/dense_65/kernel:0' shape=(5, 4) dtype=float32, numpy=\n array([[-0.7477323 , -0.5512397 ,  0.28862655, -0.03863358],\n        [ 0.45619917,  0.6058912 ,  0.55102146, -0.08232236],\n        [ 0.05374765,  0.5406301 , -0.35176423,  0.17109698],\n        [ 0.31326377,  0.08617252,  0.05538166, -0.16758734],\n        [-0.23829949, -0.22896457, -0.20922929,  0.3343681 ]],\n       dtype=float32)>,\n <tf.Variable 'sequential_42/dense_65/bias:0' shape=(4,) dtype=float32, numpy=array([0., 0., 0., 0.], dtype=float32)>]"
     },
     "metadata": {},
     "execution_count": 92
    }
   ],
   "source": [
    "net.layers[0].weights"
   ]
  },
  {
   "cell_type": "code",
   "execution_count": 93,
   "metadata": {
    "tags": []
   },
   "outputs": [
    {
     "output_type": "stream",
     "name": "stdout",
     "text": "Model: \"sequential_42\"\n_________________________________________________________________\nLayer (type)                 Output Shape              Param #   \n=================================================================\ndense_65 (Dense)             multiple                  24        \n_________________________________________________________________\ndense_66 (Dense)             multiple                  15        \n=================================================================\nTotal params: 39\nTrainable params: 39\nNon-trainable params: 0\n_________________________________________________________________\nNone\n"
    }
   ],
   "source": [
    "print(net.summary())"
   ]
  },
  {
   "cell_type": "markdown",
   "metadata": {},
   "source": [
    "## Subclassing "
   ]
  },
  {
   "cell_type": "code",
   "execution_count": 84,
   "metadata": {},
   "outputs": [
    {
     "output_type": "execute_result",
     "data": {
      "text/plain": "<tf.Tensor: shape=(2, 10), dtype=float32, numpy=\narray([[-0.17519699,  0.07823773, -0.09413238, -0.06599735,  0.02433382,\n        -0.05878056, -0.06345084, -0.0343364 , -0.01901158, -0.16578159],\n       [-0.12553011, -0.03113088, -0.20948812, -0.0360925 ,  0.01026879,\n        -0.04221698, -0.07907405, -0.08402479,  0.08492374, -0.18152303]],\n      dtype=float32)>"
     },
     "metadata": {},
     "execution_count": 84
    }
   ],
   "source": [
    "class Net(tf.keras.Model):\n",
    "    def __init__(self):\n",
    "        super().__init__() \n",
    "        self.hidden = tf.keras.layers.Dense(units = 256, activation=tf.keras.activations.relu)\n",
    "        self.out = tf.keras.layers.Dense(units = 10)\n",
    "\n",
    "    def call(self, X):\n",
    "        return self.out(self.hidden(X))\n",
    "\n",
    "net = Net()\n",
    "net(X)"
   ]
  },
  {
   "cell_type": "markdown",
   "metadata": {},
   "source": [
    "## Nested Blocks"
   ]
  },
  {
   "cell_type": "code",
   "execution_count": 87,
   "metadata": {},
   "outputs": [
    {
     "output_type": "execute_result",
     "data": {
      "text/plain": "<tf.Tensor: shape=(2, 4), dtype=float32, numpy=\narray([[0.        , 0.        , 0.35440812, 0.        ],\n       [0.        , 0.        , 0.4273185 , 0.        ]], dtype=float32)>"
     },
     "metadata": {},
     "execution_count": 87
    }
   ],
   "source": [
    "def block1(name):\n",
    "    return tf.keras.models.Sequential([\n",
    "        tf.keras.layers.Flatten(),\n",
    "        tf.keras.layers.Dense(4, activation='relu')\n",
    "    ], name = name)\n",
    "\n",
    "def block2(num):\n",
    "    net = tf.keras.Sequential()\n",
    "    for i in range(num):\n",
    "        net.add(block1(name = f'block_{i}'))\n",
    "    return net\n",
    "\n",
    "rgnet = tf.keras.Sequential()\n",
    "rgnet.add(block2(2))\n",
    "rgnet(X)"
   ]
  },
  {
   "cell_type": "code",
   "execution_count": 88,
   "metadata": {
    "tags": []
   },
   "outputs": [
    {
     "output_type": "stream",
     "name": "stdout",
     "text": "Model: \"sequential_40\"\n_________________________________________________________________\nLayer (type)                 Output Shape              Param #   \n=================================================================\nsequential_41 (Sequential)   multiple                  44        \n=================================================================\nTotal params: 44\nTrainable params: 44\nNon-trainable params: 0\n_________________________________________________________________\nNone\n"
    }
   ],
   "source": [
    "print(rgnet.summary())"
   ]
  },
  {
   "cell_type": "markdown",
   "metadata": {},
   "source": [
    "## Weight, Bias Initialization\n",
    "\n",
    "* Weight\n",
    "    * Uniform\n",
    "    * Gaussian\n",
    "    * Xavier/Glorot\n",
    "    * Constant\n",
    "    * Custom\n",
    "* Bias\n",
    "    * Usually set to zero"
   ]
  },
  {
   "cell_type": "code",
   "execution_count": 98,
   "metadata": {},
   "outputs": [
    {
     "output_type": "execute_result",
     "data": {
      "text/plain": "(array([[-0.00984479,  0.0095035 , -0.00801117,  0.00997174],\n        [-0.01140316,  0.00892066, -0.00894017, -0.00260398],\n        [ 0.00284238, -0.00238924, -0.01004896, -0.00639841],\n        [-0.0104738 ,  0.01300001,  0.00124462,  0.011874  ],\n        [-0.00071052,  0.00271565,  0.00456786,  0.00090117]],\n       dtype=float32),\n array([0., 0., 0., 0.], dtype=float32))"
     },
     "metadata": {},
     "execution_count": 98
    }
   ],
   "source": [
    "# Normal Initialization\n",
    "net = tf.keras.models.Sequential([\n",
    "    tf.keras.layers.Flatten(),\n",
    "    tf.keras.layers.Dense(\n",
    "        4, activation=tf.nn.relu,\n",
    "        kernel_initializer=tf.random_normal_initializer(mean=0, stddev=0.01),\n",
    "        bias_initializer=tf.zeros_initializer()),\n",
    "    tf.keras.layers.Dense(1)])\n",
    "\n",
    "net(X)\n",
    "net.weights[0].numpy(), net.weights[1].numpy()"
   ]
  },
  {
   "cell_type": "code",
   "execution_count": 99,
   "metadata": {},
   "outputs": [
    {
     "output_type": "execute_result",
     "data": {
      "text/plain": "(array([[1., 1., 1., 1.],\n        [1., 1., 1., 1.],\n        [1., 1., 1., 1.],\n        [1., 1., 1., 1.],\n        [1., 1., 1., 1.]], dtype=float32),\n array([0., 0., 0., 0.], dtype=float32))"
     },
     "metadata": {},
     "execution_count": 99
    }
   ],
   "source": [
    "# Constant Init\n",
    "net = tf.keras.models.Sequential([\n",
    "    tf.keras.layers.Flatten(),\n",
    "    tf.keras.layers.Dense(\n",
    "        4, activation=tf.nn.relu,\n",
    "        kernel_initializer=tf.keras.initializers.Constant(1),\n",
    "        bias_initializer=tf.zeros_initializer()),\n",
    "    tf.keras.layers.Dense(1),\n",
    "])\n",
    "\n",
    "net(X)\n",
    "net.weights[0].numpy(), net.weights[1].numpy()"
   ]
  },
  {
   "cell_type": "code",
   "execution_count": 100,
   "metadata": {},
   "outputs": [
    {
     "output_type": "execute_result",
     "data": {
      "text/plain": "(array([[ 0.2800113 , -1.0012556 ,  0.9648218 , -0.08584899],\n        [ 0.16471107, -0.21502799,  0.83380544,  0.04262323],\n        [-0.79368573, -0.13869938, -0.07479477, -0.06960519],\n        [-0.27690142, -0.36010242,  0.03960536,  0.08371516],\n        [ 0.35505927, -0.1824444 , -0.37923357, -0.3211536 ]],\n       dtype=float32),\n array([0., 0., 0., 0.], dtype=float32))"
     },
     "metadata": {},
     "execution_count": 100
    }
   ],
   "source": [
    "# Xavier Init\n",
    "net = tf.keras.models.Sequential([\n",
    "    tf.keras.layers.Flatten(),\n",
    "    tf.keras.layers.Dense(\n",
    "        4, activation=tf.nn.relu,\n",
    "        kernel_initializer=tf.keras.initializers.GlorotNormal(),\n",
    "        bias_initializer=tf.zeros_initializer()),\n",
    "    tf.keras.layers.Dense(1),\n",
    "])\n",
    "\n",
    "net(X)\n",
    "net.weights[0].numpy(), net.weights[1].numpy()"
   ]
  },
  {
   "cell_type": "markdown",
   "metadata": {},
   "source": [
    "## Custom Layers"
   ]
  },
  {
   "cell_type": "code",
   "execution_count": 115,
   "metadata": {},
   "outputs": [],
   "source": [
    "## Center/Mean Layer\n",
    "class CenteredLayer(tf.keras.Model):\n",
    "    def __init__(self):\n",
    "        super().__init__()\n",
    "    \n",
    "    def call(self, inputs):\n",
    "        return inputs - tf.reduce_mean(inputs)"
   ]
  },
  {
   "cell_type": "code",
   "execution_count": 127,
   "metadata": {
    "tags": []
   },
   "outputs": [
    {
     "output_type": "stream",
     "name": "stdout",
     "text": "Mean : 3.0\n"
    },
    {
     "output_type": "execute_result",
     "data": {
      "text/plain": "array([1, 2, 3, 4, 5])"
     },
     "metadata": {},
     "execution_count": 127
    }
   ],
   "source": [
    "X = tf.constant([1, 2, 3, 4, 5])\n",
    "print(f' Mean : {X.numpy().mean()}')\n",
    "X.numpy()"
   ]
  },
  {
   "cell_type": "code",
   "execution_count": 128,
   "metadata": {
    "tags": []
   },
   "outputs": [
    {
     "output_type": "stream",
     "name": "stdout",
     "text": "Centered Mean : 0.0\n"
    },
    {
     "output_type": "execute_result",
     "data": {
      "text/plain": "array([-2, -1,  0,  1,  2])"
     },
     "metadata": {},
     "execution_count": 128
    }
   ],
   "source": [
    "cen_layer = CenteredLayer()\n",
    "print(f'Centered Mean : {cen_layer(X).numpy().mean()}')\n",
    "cen_layer(X).numpy()"
   ]
  }
 ]
}