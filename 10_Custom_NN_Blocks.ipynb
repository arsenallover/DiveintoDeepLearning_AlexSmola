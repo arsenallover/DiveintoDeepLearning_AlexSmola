{
 "metadata": {
  "language_info": {
   "codemirror_mode": {
    "name": "ipython",
    "version": 3
   },
   "file_extension": ".py",
   "mimetype": "text/x-python",
   "name": "python",
   "nbconvert_exporter": "python",
   "pygments_lexer": "ipython3",
   "version": "3.7.9-final"
  },
  "orig_nbformat": 2,
  "kernelspec": {
   "name": "python_defaultSpec_1600277687339",
   "display_name": "Python 3.7.9 64-bit ('d2l': conda)"
  }
 },
 "nbformat": 4,
 "nbformat_minor": 2,
 "cells": [
  {
   "cell_type": "code",
   "execution_count": 1,
   "metadata": {},
   "outputs": [],
   "source": [
    "import tensorflow as tf\n",
    "import numpy as np"
   ]
  },
  {
   "cell_type": "markdown",
   "metadata": {},
   "source": [
    "## Understanding Model Weight Shapes"
   ]
  },
  {
   "cell_type": "markdown",
   "metadata": {},
   "source": [
    "model = Sequential()\n",
    "\n",
    "model.add(Dense(32, input_shape=(16,)))\n",
    "* now the model will take as input arrays of shape (*, 16) and output arrays of shape (*, 32)\n",
    "\n",
    "model.add(Dense(32))\n",
    "\n",
    "* after the first layer, you don't need to specify the size of the input anymore:\n"
   ]
  },
  {
   "cell_type": "code",
   "execution_count": 2,
   "metadata": {},
   "outputs": [
    {
     "output_type": "execute_result",
     "data": {
      "text/plain": "<tf.Tensor: id=60, shape=(2, 3), dtype=float32, numpy=\narray([[ 0.01671392,  0.90553355,  0.18247415],\n       [-0.02877694,  0.00736426, -0.00826675]], dtype=float32)>"
     },
     "metadata": {},
     "execution_count": 2
    }
   ],
   "source": [
    "net = tf.keras.models.Sequential([\n",
    "    tf.keras.layers.Dense(4, activation='relu'),  # weights at this layer : 5*4 (number of features, number of layers)\n",
    "    tf.keras.layers.Dense(3)  # 3 output for each samples  # weights at this layer : 4*3\n",
    "])\n",
    "X = tf.random.uniform((2, 5))  ## This has two samples with 5 features\n",
    "net(X)    # Output : num_samples * number of output -> 2*3"
   ]
  },
  {
   "cell_type": "code",
   "execution_count": 3,
   "metadata": {},
   "outputs": [
    {
     "output_type": "execute_result",
     "data": {
      "text/plain": "[(5, 4), (4,), (4, 3), (3,)]"
     },
     "metadata": {},
     "execution_count": 3
    }
   ],
   "source": [
    "[w.shape for w in net.get_weights()]"
   ]
  },
  {
   "cell_type": "code",
   "execution_count": 4,
   "metadata": {},
   "outputs": [
    {
     "output_type": "execute_result",
     "data": {
      "text/plain": "[array([[-0.70231956,  0.33076   ,  0.37125206,  0.46176136],\n        [-0.70593864, -0.4999299 , -0.63074696, -0.56508505],\n        [-0.08774465,  0.23178315,  0.14967823, -0.16643196],\n        [ 0.67740226,  0.21079755,  0.81191397,  0.49080694],\n        [ 0.4767325 ,  0.37426507, -0.7815539 ,  0.3904084 ]],\n       dtype=float32),\n array([0., 0., 0., 0.], dtype=float32),\n array([[ 0.43081045,  0.83204496, -0.25872368],\n        [-0.8179759 ,  0.20932698, -0.23497993],\n        [ 0.8340477 , -0.45239016,  0.6053418 ],\n        [-0.04227406,  0.86390483,  0.8457637 ]], dtype=float32),\n array([0., 0., 0.], dtype=float32)]"
     },
     "metadata": {},
     "execution_count": 4
    }
   ],
   "source": [
    "net.get_weights() "
   ]
  },
  {
   "cell_type": "code",
   "execution_count": 5,
   "metadata": {},
   "outputs": [
    {
     "output_type": "execute_result",
     "data": {
      "text/plain": "[<tf.Variable 'sequential/dense/kernel:0' shape=(5, 4) dtype=float32, numpy=\n array([[-0.70231956,  0.33076   ,  0.37125206,  0.46176136],\n        [-0.70593864, -0.4999299 , -0.63074696, -0.56508505],\n        [-0.08774465,  0.23178315,  0.14967823, -0.16643196],\n        [ 0.67740226,  0.21079755,  0.81191397,  0.49080694],\n        [ 0.4767325 ,  0.37426507, -0.7815539 ,  0.3904084 ]],\n       dtype=float32)>,\n <tf.Variable 'sequential/dense/bias:0' shape=(4,) dtype=float32, numpy=array([0., 0., 0., 0.], dtype=float32)>]"
     },
     "metadata": {},
     "execution_count": 5
    }
   ],
   "source": [
    "net.layers[0].weights"
   ]
  },
  {
   "cell_type": "code",
   "execution_count": 6,
   "metadata": {
    "tags": []
   },
   "outputs": [
    {
     "output_type": "stream",
     "name": "stdout",
     "text": "Model: \"sequential\"\n_________________________________________________________________\nLayer (type)                 Output Shape              Param #   \n=================================================================\ndense (Dense)                multiple                  24        \n_________________________________________________________________\ndense_1 (Dense)              multiple                  15        \n=================================================================\nTotal params: 39\nTrainable params: 39\nNon-trainable params: 0\n_________________________________________________________________\nNone\n"
    }
   ],
   "source": [
    "print(net.summary())"
   ]
  },
  {
   "cell_type": "markdown",
   "metadata": {},
   "source": [
    "## Subclassing "
   ]
  },
  {
   "cell_type": "code",
   "execution_count": 7,
   "metadata": {},
   "outputs": [
    {
     "output_type": "execute_result",
     "data": {
      "text/plain": "<tf.Tensor: id=123, shape=(2, 10), dtype=float32, numpy=\narray([[ 0.19341265,  0.16742884, -0.07801189,  0.00709925,  0.19250943,\n        -0.05013669,  0.18435931,  0.070962  , -0.09334707, -0.08752254],\n       [ 0.25540304,  0.01825365, -0.05991789,  0.06557041,  0.14278069,\n        -0.07365306,  0.08589697,  0.02383904, -0.06201077,  0.06696422]],\n      dtype=float32)>"
     },
     "metadata": {},
     "execution_count": 7
    }
   ],
   "source": [
    "class Net(tf.keras.Model):\n",
    "    def __init__(self):\n",
    "        super().__init__() \n",
    "        self.hidden = tf.keras.layers.Dense(units = 256, activation=tf.keras.activations.relu)\n",
    "        self.out = tf.keras.layers.Dense(units = 10)\n",
    "\n",
    "    def call(self, X):\n",
    "        return self.out(self.hidden(X))\n",
    "\n",
    "net = Net()\n",
    "net(X)"
   ]
  },
  {
   "cell_type": "markdown",
   "metadata": {},
   "source": [
    "## Nested Blocks"
   ]
  },
  {
   "cell_type": "code",
   "execution_count": 8,
   "metadata": {},
   "outputs": [
    {
     "output_type": "execute_result",
     "data": {
      "text/plain": "<tf.Tensor: id=181, shape=(2, 4), dtype=float32, numpy=\narray([[0.        , 0.10468936, 0.41078112, 0.32752213],\n       [0.        , 0.20354982, 0.37920904, 0.3137256 ]], dtype=float32)>"
     },
     "metadata": {},
     "execution_count": 8
    }
   ],
   "source": [
    "def block1(name):\n",
    "    return tf.keras.models.Sequential([\n",
    "        tf.keras.layers.Flatten(),\n",
    "        tf.keras.layers.Dense(4, activation='relu')\n",
    "    ], name = name)\n",
    "\n",
    "def block2(num):\n",
    "    net = tf.keras.Sequential()\n",
    "    for i in range(num):\n",
    "        net.add(block1(name = f'block_{i}'))\n",
    "    return net\n",
    "\n",
    "rgnet = tf.keras.Sequential()\n",
    "rgnet.add(block2(2))\n",
    "rgnet(X)"
   ]
  },
  {
   "cell_type": "code",
   "execution_count": 9,
   "metadata": {
    "tags": []
   },
   "outputs": [
    {
     "output_type": "stream",
     "name": "stdout",
     "text": "Model: \"sequential_1\"\n_________________________________________________________________\nLayer (type)                 Output Shape              Param #   \n=================================================================\nsequential_2 (Sequential)    multiple                  44        \n=================================================================\nTotal params: 44\nTrainable params: 44\nNon-trainable params: 0\n_________________________________________________________________\nNone\n"
    }
   ],
   "source": [
    "print(rgnet.summary())"
   ]
  },
  {
   "cell_type": "markdown",
   "metadata": {},
   "source": [
    "## Weight, Bias Initialization\n",
    "\n",
    "* Weight\n",
    "    * Uniform\n",
    "    * Gaussian\n",
    "    * Xavier/Glorot\n",
    "    * Constant\n",
    "    * Custom\n",
    "* Bias\n",
    "    * Usually set to zero"
   ]
  },
  {
   "cell_type": "code",
   "execution_count": 10,
   "metadata": {},
   "outputs": [
    {
     "output_type": "execute_result",
     "data": {
      "text/plain": "(array([[-0.01548367,  0.00943118, -0.00170447, -0.01062113],\n        [ 0.00248973,  0.00634976,  0.01298806,  0.00266542],\n        [ 0.01151692,  0.00271542,  0.00158345, -0.00879586],\n        [-0.00417596,  0.01616655,  0.00698785,  0.00300117],\n        [ 0.01090067,  0.00229237,  0.02077415, -0.00362489]],\n       dtype=float32),\n array([0., 0., 0., 0.], dtype=float32))"
     },
     "metadata": {},
     "execution_count": 10
    }
   ],
   "source": [
    "# Normal Initialization\n",
    "net = tf.keras.models.Sequential([\n",
    "    tf.keras.layers.Flatten(),\n",
    "    tf.keras.layers.Dense(\n",
    "        4, activation=tf.nn.relu,\n",
    "        kernel_initializer=tf.random_normal_initializer(mean=0, stddev=0.01),\n",
    "        bias_initializer=tf.zeros_initializer()),\n",
    "    tf.keras.layers.Dense(1)])\n",
    "\n",
    "net(X)\n",
    "net.weights[0].numpy(), net.weights[1].numpy()"
   ]
  },
  {
   "cell_type": "code",
   "execution_count": 11,
   "metadata": {},
   "outputs": [
    {
     "output_type": "execute_result",
     "data": {
      "text/plain": "(array([[1., 1., 1., 1.],\n        [1., 1., 1., 1.],\n        [1., 1., 1., 1.],\n        [1., 1., 1., 1.],\n        [1., 1., 1., 1.]], dtype=float32),\n array([0., 0., 0., 0.], dtype=float32))"
     },
     "metadata": {},
     "execution_count": 11
    }
   ],
   "source": [
    "# Constant Init\n",
    "net = tf.keras.models.Sequential([\n",
    "    tf.keras.layers.Flatten(),\n",
    "    tf.keras.layers.Dense(\n",
    "        4, activation=tf.nn.relu,\n",
    "        kernel_initializer=tf.keras.initializers.Constant(1),\n",
    "        bias_initializer=tf.zeros_initializer()),\n",
    "    tf.keras.layers.Dense(1),\n",
    "])\n",
    "\n",
    "net(X)\n",
    "net.weights[0].numpy(), net.weights[1].numpy()"
   ]
  },
  {
   "cell_type": "code",
   "execution_count": 12,
   "metadata": {},
   "outputs": [
    {
     "output_type": "execute_result",
     "data": {
      "text/plain": "(array([[-0.24993627,  0.6882137 , -0.04835684,  0.14106779],\n        [-0.6707692 ,  0.07403941,  0.6376924 , -0.5068528 ],\n        [-0.7230006 , -0.17344736,  0.06102401,  0.430907  ],\n        [-0.0978165 ,  0.95055515, -0.5735844 , -0.99266607],\n        [-0.31049836,  0.17081314, -0.20078082,  0.91287506]],\n       dtype=float32),\n array([0., 0., 0., 0.], dtype=float32))"
     },
     "metadata": {},
     "execution_count": 12
    }
   ],
   "source": [
    "# Xavier Init\n",
    "net = tf.keras.models.Sequential([\n",
    "    tf.keras.layers.Flatten(),\n",
    "    tf.keras.layers.Dense(\n",
    "        4, activation=tf.nn.relu,\n",
    "        kernel_initializer=tf.keras.initializers.GlorotNormal(),\n",
    "        bias_initializer=tf.zeros_initializer()),\n",
    "    tf.keras.layers.Dense(1),\n",
    "])\n",
    "\n",
    "net(X)\n",
    "net.weights[0].numpy(), net.weights[1].numpy()"
   ]
  },
  {
   "cell_type": "markdown",
   "metadata": {},
   "source": [
    "## Custom Layers"
   ]
  },
  {
   "cell_type": "code",
   "execution_count": 13,
   "metadata": {},
   "outputs": [],
   "source": [
    "## Center/Mean Layer\n",
    "class CenteredLayer(tf.keras.Model):\n",
    "    def __init__(self):\n",
    "        super().__init__()\n",
    "    \n",
    "    def call(self, inputs):\n",
    "        return inputs - tf.reduce_mean(inputs)"
   ]
  },
  {
   "cell_type": "code",
   "execution_count": 14,
   "metadata": {
    "tags": []
   },
   "outputs": [
    {
     "output_type": "stream",
     "name": "stdout",
     "text": "Mean : 3.0\n"
    },
    {
     "output_type": "execute_result",
     "data": {
      "text/plain": "array([1, 2, 3, 4, 5])"
     },
     "metadata": {},
     "execution_count": 14
    }
   ],
   "source": [
    "X = tf.constant([1, 2, 3, 4, 5])\n",
    "print(f' Mean : {X.numpy().mean()}')\n",
    "X.numpy()"
   ]
  },
  {
   "cell_type": "code",
   "execution_count": 15,
   "metadata": {
    "tags": []
   },
   "outputs": [
    {
     "output_type": "stream",
     "name": "stdout",
     "text": "Centered Mean : 0.0\n"
    },
    {
     "output_type": "execute_result",
     "data": {
      "text/plain": "array([-2, -1,  0,  1,  2])"
     },
     "metadata": {},
     "execution_count": 15
    }
   ],
   "source": [
    "cen_layer = CenteredLayer()\n",
    "print(f'Centered Mean : {cen_layer(X).numpy().mean()}')\n",
    "cen_layer(X).numpy()"
   ]
  }
 ]
}